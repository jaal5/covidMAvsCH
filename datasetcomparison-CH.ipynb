{
 "cells": [
  {
   "cell_type": "code",
   "execution_count": 2,
   "metadata": {},
   "outputs": [],
   "source": [
    "import numpy as np\n",
    "import matplotlib.cm as cm\n",
    "import matplotlib.pyplot as plt\n",
    "import pandas as pd"
   ]
  },
  {
   "cell_type": "code",
   "execution_count": 15,
   "metadata": {},
   "outputs": [],
   "source": [
    "# https://github.com/openZH/covid_19.git\n",
    "filepath = 'C:\\\\Users\\\\janal\\\\OneDrive\\\\Dokumente\\\\GitHub\\\\covid_19\\\\'\n",
    "filename = 'COVID19_Fallzahlen_CH_total_v2.csv'\n",
    "file = filepath + filename\n",
    "rawdata = pd.read_csv(file)\n",
    "dataCH = rawdata.groupby(by = 'date').sum()\n",
    "set1 = dataCH['ncumul_conf']\n",
    "set1 = np.array(set1)"
   ]
  },
  {
   "cell_type": "code",
   "execution_count": 16,
   "metadata": {},
   "outputs": [],
   "source": [
    "# https://github.com/daenuprobst/covid19-cases-switzerland\n",
    "filepath = 'C:\\\\Users\\\\janal\\\\OneDrive\\\\Dokumente\\\\GitHub\\\\covid19-cases-switzerland\\\\'\n",
    "filename = 'covid19_cases_switzerland_openzh.csv'\n",
    "file = filepath + filename\n",
    "rawdata = pd.read_csv(file)\n",
    "set2 = np.array(rawdata['CH'])"
   ]
  },
  {
   "cell_type": "code",
   "execution_count": 19,
   "metadata": {},
   "outputs": [
    {
     "data": {
      "image/png": "[encoded data removed]",
      "text/plain": [
       "<Figure size 720x360 with 1 Axes>"
      ]
     },
     "metadata": {
      "needs_background": "light"
     },
     "output_type": "display_data"
    }
   ],
   "source": [
    "# first derivative of confirmed cases per Mil\n",
    "\n",
    "fig = plt.figure(figsize=(10,5))\n",
    "\n",
    "ax1 = fig.add_subplot(1,1,1)\n",
    "\n",
    "x1 = np.arange(len(set1))\n",
    "x2 = np.arange(len(set2))\n",
    "\n",
    "ax1.plot(x1,set1, color = 'lightcoral', label = 'set1')\n",
    "ax1.plot(x2,set2, color = 'cornflowerblue', label = 'set2')\n",
    "\n",
    "# legend\n",
    "ax1.legend()\n",
    "\n",
    "plt.show()"
   ]
  },
  {
   "cell_type": "markdown",
   "metadata": {},
   "source": [
    "## Prep for the ZH dataset (cheesy)"
   ]
  },
  {
   "cell_type": "code",
   "execution_count": null,
   "metadata": {},
   "outputs": [],
   "source": [
    "# covid data: https://github.com/openZH/covid_19.git\n",
    "# population: https://en.wikipedia.org/wiki/Demographics_of_Switzerland\n",
    "\n",
    "filepath = 'C:\\\\Users\\\\janal\\\\OneDrive\\\\Dokumente\\\\GitHub\\\\covid_19\\\\'\n",
    "filename = 'COVID19_Fallzahlen_CH_total_v2.csv'\n",
    "file = filepath + filename\n",
    "\n",
    "rawdataCH = pd.read_csv(file)\n",
    "\n",
    "dataCH = rawdataCH.groupby(by = 'date').sum()\n",
    "dataCH = dataCH[dataCH['ncumul_conf'] >= 100]\n",
    "\n",
    "dataCH = dataCH.reset_index()\n",
    "dataCH = dataCH.rename(columns = {'ncumul_tested': 'tested','ncumul_conf':'confirmed', 'ncumul_deceased':'dead'})\n",
    "dataCH = dataCH[['date','confirmed','tested','dead']]\n",
    "dataCH['confirmedPerMillion'] = dataCH.confirmed/(populationCH/1000000)\n",
    "dataCH['deadPerMillion'] = dataCH.dead/(populationCH/1000000)\n",
    "dataCH['daysSinceConfirmed100'] = np.arange(1,len(dataCH)+1,1)\n",
    "dataCH['daysSinceDeath1'] = dataCH.index - dataCH.index[dataCH.dead > 0][0]\n",
    "dataCH['daysSinceDeath10'] = dataCH.index - dataCH.index[dataCH.dead >= 10][0]\n",
    "\n",
    "#### only, if last row is messy/incomplete ####\n",
    "dataCH = dataCH.iloc[:-1]\n",
    "\n",
    "# create np.arrays out of columns\n",
    "confirmedCH2 = np.array(dataCH['confirmed'])\n",
    "testedCH2 = np.array(dataCH['tested'])\n",
    "deadCH2 = np.array(dataCH['dead'])\n",
    "datesCH2 = np.array(dataCH['date'])\n",
    "daysSinceConfirmed100CH2 = np.array(dataCH['daysSinceConfirmed100'])\n",
    "daysSinceDeath1CH2 = np.array(dataCH['daysSinceDeath1'])\n",
    "daysSinceDeath10CH2 = np.array(dataCH['daysSinceDeath10'])\n",
    "confirmedPerMilCH2 = np.array(dataCH['confirmedPerMillion'])\n",
    "deadPerMilCH2 = np.array(dataCH['deadPerMillion'])\n",
    "\n",
    "dataCH2 = copy.deepcopy(dataCH)"
   ]
  }
 ],
 "metadata": {
  "kernelspec": {
   "display_name": "Python 3",
   "language": "python",
   "name": "python3"
  },
  "language_info": {
   "codemirror_mode": {
    "name": "ipython",
    "version": 3
   },
   "file_extension": ".py",
   "mimetype": "text/x-python",
   "name": "python",
   "nbconvert_exporter": "python",
   "pygments_lexer": "ipython3",
   "version": "3.7.4"
  }
 },
 "nbformat": 4,
 "nbformat_minor": 2
}
